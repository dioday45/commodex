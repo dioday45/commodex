{
 "cells": [
  {
   "cell_type": "code",
   "execution_count": 1,
   "id": "43e19cb2",
   "metadata": {},
   "outputs": [],
   "source": [
    "import pandas as pd\n",
    "from src.oil.futures import fetch_forward_curve_from_contracts"
   ]
  },
  {
   "cell_type": "code",
   "execution_count": 2,
   "id": "6fb2eba6",
   "metadata": {},
   "outputs": [
    {
     "ename": "TypeError",
     "evalue": "fetch_forward_curve_from_contracts() missing 1 required positional argument: 'symbols'",
     "output_type": "error",
     "traceback": [
      "\u001b[0;31m---------------------------------------------------------------------------\u001b[0m",
      "\u001b[0;31mTypeError\u001b[0m                                 Traceback (most recent call last)",
      "Cell \u001b[0;32mIn[2], line 1\u001b[0m\n\u001b[0;32m----> 1\u001b[0m \u001b[43mfetch_forward_curve_from_contracts\u001b[49m\u001b[43m(\u001b[49m\u001b[43m)\u001b[49m\n",
      "\u001b[0;31mTypeError\u001b[0m: fetch_forward_curve_from_contracts() missing 1 required positional argument: 'symbols'"
     ]
    }
   ],
   "source": [
    "fetch_forward_curve_from_contracts()"
   ]
  },
  {
   "cell_type": "code",
   "execution_count": 70,
   "id": "8aa0d82d",
   "metadata": {},
   "outputs": [],
   "source": [
    "import src.secrets as secrets\n",
    "import requests\n",
    "import pandas as pd\n",
    "base_url = \"https://api.eia.gov/v2/petroleum/pnp/inpt2/data/\"\n",
    "res = requests.get(base_url, params={\"api_key\": secrets.EIA_KEY, \"frequency\": \"monthly\", \"data[0]\": \"value\", \"sort[0][column]\": \"period\", \"sort[0][direction]\": \"desc\", \"offset\": 0, \"length\": 5000})\n",
    "data = res.json()\n",
    "df = pd.DataFrame(data[\"response\"][\"data\"])"
   ]
  },
  {
   "cell_type": "code",
   "execution_count": 2,
   "id": "ae2d17e1",
   "metadata": {},
   "outputs": [],
   "source": [
    "import streamlit as st"
   ]
  },
  {
   "cell_type": "code",
   "execution_count": 3,
   "id": "c0b552f2",
   "metadata": {},
   "outputs": [
    {
     "data": {
      "text/plain": [
       "'dRh3IDfmi3YRYvXSgczY0q8mZsLzoOd6TUyOgb8k'"
      ]
     },
     "execution_count": 3,
     "metadata": {},
     "output_type": "execute_result"
    }
   ],
   "source": [
    "st.secrets[\"EIA_KEY\"]"
   ]
  },
  {
   "cell_type": "code",
   "execution_count": 68,
   "id": "d3ed8809",
   "metadata": {},
   "outputs": [],
   "source": [
    "df = pd.DataFrame(data[\"response\"][\"data\"])\n",
    "# Convert period to datetime\n",
    "df[\"Date\"] = pd.to_datetime(df[\"period\"])\n",
    "df[\"value\"] = pd.to_numeric(df[\"value\"], errors=\"coerce\")\n",
    "\n",
    "# Separate state-level rows\n",
    "df_states = df[df[\"duoarea\"].str.startswith(\"S\")].copy()\n",
    "\n",
    "# Separate main PADD-level rows\n",
    "valid_padds = [\"R10\", \"R20\", \"R30\", \"R40\", \"R50\"]\n",
    "df_padds = df[df[\"duoarea\"].isin(valid_padds)].copy()\n",
    "\n",
    "\n",
    "\n",
    "\n",
    "df_top_pivot = df_padds.pivot_table(index=\"Date\", columns=\"duoarea\", values=\"value\", aggfunc=\"sum\")\n",
    "df_top_pivot = df_top_pivot.rename(columns={\n",
    "    \"R10\": \"PADD 1\",\n",
    "    \"R20\": \"PADD 2\",\n",
    "    \"R30\": \"PADD 3\",\n",
    "    \"R40\": \"PADD 4\",\n",
    "    \"R50\": \"PADD 5\"\n",
    "})\n",
    "\n",
    "df_top_pivot[\"US Total\"] = df_top_pivot[\"PADD 1\"] + df_top_pivot[\"PADD 2\"] + df_top_pivot[\"PADD 3\"] + df_top_pivot[\"PADD 4\"] + df_top_pivot[\"PADD 5\"]"
   ]
  },
  {
   "cell_type": "code",
   "execution_count": null,
   "id": "47e92d56",
   "metadata": {},
   "outputs": [],
   "source": []
  },
  {
   "cell_type": "code",
   "execution_count": 69,
   "id": "49c9dd60",
   "metadata": {},
   "outputs": [
    {
     "data": {
      "text/html": [
       "<div>\n",
       "<style scoped>\n",
       "    .dataframe tbody tr th:only-of-type {\n",
       "        vertical-align: middle;\n",
       "    }\n",
       "\n",
       "    .dataframe tbody tr th {\n",
       "        vertical-align: top;\n",
       "    }\n",
       "\n",
       "    .dataframe thead th {\n",
       "        text-align: right;\n",
       "    }\n",
       "</style>\n",
       "<table border=\"1\" class=\"dataframe\">\n",
       "  <thead>\n",
       "    <tr style=\"text-align: right;\">\n",
       "      <th>duoarea</th>\n",
       "      <th>PADD 1</th>\n",
       "      <th>PADD 2</th>\n",
       "      <th>PADD 3</th>\n",
       "      <th>PADD 4</th>\n",
       "      <th>PADD 5</th>\n",
       "      <th>US Total</th>\n",
       "    </tr>\n",
       "    <tr>\n",
       "      <th>Date</th>\n",
       "      <th></th>\n",
       "      <th></th>\n",
       "      <th></th>\n",
       "      <th></th>\n",
       "      <th></th>\n",
       "      <th></th>\n",
       "    </tr>\n",
       "  </thead>\n",
       "  <tbody>\n",
       "    <tr>\n",
       "      <th>2020-03-01</th>\n",
       "      <td>2274</td>\n",
       "      <td>69631</td>\n",
       "      <td>279585</td>\n",
       "      <td>30696</td>\n",
       "      <td>27292</td>\n",
       "      <td>409478</td>\n",
       "    </tr>\n",
       "    <tr>\n",
       "      <th>2020-04-01</th>\n",
       "      <td>2017</td>\n",
       "      <td>57674</td>\n",
       "      <td>254764</td>\n",
       "      <td>27470</td>\n",
       "      <td>27320</td>\n",
       "      <td>369245</td>\n",
       "    </tr>\n",
       "    <tr>\n",
       "      <th>2020-05-01</th>\n",
       "      <td>1945</td>\n",
       "      <td>42072</td>\n",
       "      <td>217601</td>\n",
       "      <td>23722</td>\n",
       "      <td>25508</td>\n",
       "      <td>310848</td>\n",
       "    </tr>\n",
       "    <tr>\n",
       "      <th>2020-06-01</th>\n",
       "      <td>2051</td>\n",
       "      <td>48008</td>\n",
       "      <td>224943</td>\n",
       "      <td>25009</td>\n",
       "      <td>23816</td>\n",
       "      <td>323827</td>\n",
       "    </tr>\n",
       "    <tr>\n",
       "      <th>2020-07-01</th>\n",
       "      <td>2070</td>\n",
       "      <td>55165</td>\n",
       "      <td>241009</td>\n",
       "      <td>26964</td>\n",
       "      <td>27045</td>\n",
       "      <td>352253</td>\n",
       "    </tr>\n",
       "    <tr>\n",
       "      <th>...</th>\n",
       "      <td>...</td>\n",
       "      <td>...</td>\n",
       "      <td>...</td>\n",
       "      <td>...</td>\n",
       "      <td>...</td>\n",
       "      <td>...</td>\n",
       "    </tr>\n",
       "    <tr>\n",
       "      <th>2024-11-01</th>\n",
       "      <td>1513</td>\n",
       "      <td>57440</td>\n",
       "      <td>298912</td>\n",
       "      <td>33679</td>\n",
       "      <td>22370</td>\n",
       "      <td>413914</td>\n",
       "    </tr>\n",
       "    <tr>\n",
       "      <th>2024-12-01</th>\n",
       "      <td>1458</td>\n",
       "      <td>58703</td>\n",
       "      <td>312980</td>\n",
       "      <td>34033</td>\n",
       "      <td>22838</td>\n",
       "      <td>430012</td>\n",
       "    </tr>\n",
       "    <tr>\n",
       "      <th>2025-01-01</th>\n",
       "      <td>1480</td>\n",
       "      <td>57717</td>\n",
       "      <td>305801</td>\n",
       "      <td>32581</td>\n",
       "      <td>22918</td>\n",
       "      <td>420497</td>\n",
       "    </tr>\n",
       "    <tr>\n",
       "      <th>2025-02-01</th>\n",
       "      <td>1452</td>\n",
       "      <td>50846</td>\n",
       "      <td>281475</td>\n",
       "      <td>29503</td>\n",
       "      <td>20680</td>\n",
       "      <td>383956</td>\n",
       "    </tr>\n",
       "    <tr>\n",
       "      <th>2025-03-01</th>\n",
       "      <td>1505</td>\n",
       "      <td>57989</td>\n",
       "      <td>316395</td>\n",
       "      <td>32941</td>\n",
       "      <td>22793</td>\n",
       "      <td>431623</td>\n",
       "    </tr>\n",
       "  </tbody>\n",
       "</table>\n",
       "<p>61 rows × 6 columns</p>\n",
       "</div>"
      ],
      "text/plain": [
       "duoarea     PADD 1  PADD 2  PADD 3  PADD 4  PADD 5  US Total\n",
       "Date                                                        \n",
       "2020-03-01    2274   69631  279585   30696   27292    409478\n",
       "2020-04-01    2017   57674  254764   27470   27320    369245\n",
       "2020-05-01    1945   42072  217601   23722   25508    310848\n",
       "2020-06-01    2051   48008  224943   25009   23816    323827\n",
       "2020-07-01    2070   55165  241009   26964   27045    352253\n",
       "...            ...     ...     ...     ...     ...       ...\n",
       "2024-11-01    1513   57440  298912   33679   22370    413914\n",
       "2024-12-01    1458   58703  312980   34033   22838    430012\n",
       "2025-01-01    1480   57717  305801   32581   22918    420497\n",
       "2025-02-01    1452   50846  281475   29503   20680    383956\n",
       "2025-03-01    1505   57989  316395   32941   22793    431623\n",
       "\n",
       "[61 rows x 6 columns]"
      ]
     },
     "execution_count": 69,
     "metadata": {},
     "output_type": "execute_result"
    }
   ],
   "source": [
    "df_top_pivot"
   ]
  },
  {
   "cell_type": "code",
   "execution_count": null,
   "id": "c472d2a8",
   "metadata": {},
   "outputs": [],
   "source": []
  }
 ],
 "metadata": {
  "kernelspec": {
   "display_name": ".venv",
   "language": "python",
   "name": "python3"
  },
  "language_info": {
   "codemirror_mode": {
    "name": "ipython",
    "version": 3
   },
   "file_extension": ".py",
   "mimetype": "text/x-python",
   "name": "python",
   "nbconvert_exporter": "python",
   "pygments_lexer": "ipython3",
   "version": "3.10.13"
  }
 },
 "nbformat": 4,
 "nbformat_minor": 5
}
